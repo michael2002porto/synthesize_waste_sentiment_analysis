{
 "cells": [
  {
   "cell_type": "code",
   "execution_count": 1,
   "metadata": {},
   "outputs": [
    {
     "name": "stderr",
     "output_type": "stream",
     "text": [
      "[nltk_data] Downloading package punkt to\n",
      "[nltk_data]     C:\\Users\\ASUS\\AppData\\Roaming\\nltk_data...\n",
      "[nltk_data]   Package punkt is already up-to-date!\n"
     ]
    },
    {
     "data": {
      "text/plain": [
       "True"
      ]
     },
     "execution_count": 1,
     "metadata": {},
     "output_type": "execute_result"
    }
   ],
   "source": [
    "import pickle\n",
    "import re\n",
    "import numpy as np\n",
    "import pandas as pd\n",
    "\n",
    "from Sastrawi.Stemmer.StemmerFactory import StemmerFactory\n",
    "\n",
    "from sklearn.preprocessing import OneHotEncoder\n",
    "from sklearn.model_selection import train_test_split\n",
    "\n",
    "from mpstemmer import MPStemmer\n",
    "from Sastrawi.StopWordRemover.StopWordRemoverFactory import StopWordRemoverFactory, StopWordRemover, ArrayDictionary\n",
    "\n",
    "import nltk\n",
    "from nltk.corpus import stopwords\n",
    "nltk.download('punkt')"
   ]
  },
  {
   "cell_type": "code",
   "execution_count": 2,
   "metadata": {},
   "outputs": [],
   "source": [
    "import tensorflow as tf\n",
    "from tensorflow.keras.preprocessing.text import Tokenizer\n",
    "from tensorflow.keras.preprocessing.sequence import pad_sequences\n",
    "from sklearn.model_selection import train_test_split\n",
    "from sklearn.metrics import accuracy_score\n",
    "from sklearn.model_selection import GridSearchCV\n",
    "from sklearn.metrics import confusion_matrix\n",
    "from tensorflow.keras.optimizers import Adam, RMSprop\n",
    "from tensorflow.keras.callbacks import EarlyStopping"
   ]
  },
  {
   "cell_type": "code",
   "execution_count": 2,
   "metadata": {},
   "outputs": [],
   "source": [
    "stopwords_ind = stopwords.words('indonesian')\n",
    "\n",
    "factory = StemmerFactory()\n",
    "stemmer = factory.create_stemmer()\n",
    "lemmi = MPStemmer()"
   ]
  },
  {
   "cell_type": "markdown",
   "metadata": {},
   "source": [
    "#### **Read File**"
   ]
  },
  {
   "cell_type": "code",
   "execution_count": 3,
   "metadata": {},
   "outputs": [],
   "source": [
    "df = pd.read_csv('../datasets/handle_imbalance/indonlu_handle_imbalance_v8.csv')"
   ]
  },
  {
   "cell_type": "code",
   "execution_count": 4,
   "metadata": {},
   "outputs": [],
   "source": [
    "key_norm = pd.read_csv('../corpus/colloquial-indonesian-lexicon.csv')"
   ]
  },
  {
   "cell_type": "markdown",
   "metadata": {},
   "source": [
    "#### **Preprocessing**"
   ]
  },
  {
   "cell_type": "code",
   "execution_count": 5,
   "metadata": {},
   "outputs": [],
   "source": [
    "def casefolding(string):\n",
    "    string = string.lower()\n",
    "    string = re.sub(r'https?://\\S+|www\\.\\S+', '', string) # remove URLs\n",
    "    string = re.sub(r\"[-()\\\"#/@;:<>{}`+=~|.!?,]\", '', string) # remove punctuations and special characters\n",
    "    # string = re.sub(r'[^\\w\\s]','', string) # remove tanda baca\n",
    "    string = re.sub(r\"[^A-Za-z0-9(),!?\\'\\-`]\", \" \", string)\n",
    "    string = re.sub(r\"\\'s\", \" \\'s\", string)\n",
    "    string = re.sub(r\"\\'ve\", \" \\'ve\", string)\n",
    "    string = re.sub(r\"n\\'t\", \" n\\'t\", string)\n",
    "    # Menghapus enter\n",
    "    string = re.sub(r\"\\n\", \"\", string)\n",
    "\n",
    "    # Membersihkan elemen yang tidak perlu, seperti menghapus spasi 2\n",
    "    string = re.sub(r\"\\'re\", \" \\'re\", string)\n",
    "\n",
    "    # Mengecek digit atau bukan\n",
    "    string = re.sub(r\"\\'d\", \" \\'d\", string)\n",
    "\n",
    "    # Mengecek long atau bukan\n",
    "    string = re.sub(r\"\\'ll\", \" \\'ll\", string)\n",
    "    string = re.sub(r\",\", \" , \", string)\n",
    "    string = re.sub(r\"!\", \" ! \", string)\n",
    "    string = re.sub(r\"\\(\", \" \\( \", string)\n",
    "    string = re.sub(r\"\\)\", \" \\) \", string)\n",
    "    string = re.sub(r\"\\?\", \" \\? \", string)\n",
    "    string = re.sub(r\"\\s{2,}\", \" \", string)\n",
    "    string = string.strip()\n",
    "    # Menghilangkan imbuhan\n",
    "    \n",
    "    return string"
   ]
  },
  {
   "cell_type": "code",
   "execution_count": 6,
   "metadata": {},
   "outputs": [],
   "source": [
    "def textNormalize(string):\n",
    "    # Split the input string into words\n",
    "    words = string.split()\n",
    "    # Replace slang words with their formal equivalents\n",
    "    string = ' '.join([key_norm[key_norm['slang'] == word]['formal'].values[0] if (key_norm['slang'] == word).any() else word for word in words])\n",
    "    string = string.lower()\n",
    "    return string"
   ]
  },
  {
   "cell_type": "code",
   "execution_count": 7,
   "metadata": {},
   "outputs": [],
   "source": [
    "more_stop_words = []\n",
    "\n",
    "stop_words = StopWordRemoverFactory().get_stop_words()\n",
    "new_array = ArrayDictionary(stop_words)\n",
    "stop_words_remover_new = StopWordRemover(new_array)\n",
    "\n",
    "def stopword(str_text):\n",
    "  str_text = stop_words_remover_new.remove(str_text)\n",
    "  return str_text"
   ]
  },
  {
   "cell_type": "code",
   "execution_count": 8,
   "metadata": {},
   "outputs": [],
   "source": [
    "def tokenization(text):\n",
    "    text = re.split('\\W+', text)\n",
    "    return text"
   ]
  },
  {
   "cell_type": "code",
   "execution_count": 9,
   "metadata": {},
   "outputs": [],
   "source": [
    "def stemming(Ulasan):\n",
    "  factory = StemmerFactory()\n",
    "  stemmer = factory.create_stemmer()\n",
    "  do = []\n",
    "  for w in Ulasan:\n",
    "    dt = stemmer.stem(w)\n",
    "    do.append(dt)\n",
    "  d_clean = []\n",
    "  d_clean = \" \".join(do)\n",
    "#   print(d_clean)\n",
    "  return d_clean"
   ]
  },
  {
   "cell_type": "code",
   "execution_count": 10,
   "metadata": {},
   "outputs": [],
   "source": [
    "def lemmitization(text):\n",
    "    text = lemmi.stem(text)\n",
    "    return text"
   ]
  },
  {
   "cell_type": "code",
   "execution_count": 11,
   "metadata": {},
   "outputs": [],
   "source": [
    "df['cleaned_text'] = df['text'].apply(lambda x: casefolding(x))"
   ]
  },
  {
   "cell_type": "code",
   "execution_count": 12,
   "metadata": {},
   "outputs": [],
   "source": [
    "df['cleaned_text'] = df['cleaned_text'].apply(lambda x: textNormalize(x))"
   ]
  },
  {
   "cell_type": "code",
   "execution_count": 13,
   "metadata": {},
   "outputs": [],
   "source": [
    "df['cleaned_text'] = df['cleaned_text'].apply(lambda x: stopword(x))"
   ]
  },
  {
   "cell_type": "code",
   "execution_count": 14,
   "metadata": {},
   "outputs": [],
   "source": [
    "df.to_csv('../datasets/cleaned/indonlu_smsa_cleaned.csv', index=False)"
   ]
  },
  {
   "cell_type": "code",
   "execution_count": 15,
   "metadata": {},
   "outputs": [],
   "source": [
    "df['preprocessed_text'] = df['cleaned_text'].apply(tokenization)"
   ]
  },
  {
   "cell_type": "code",
   "execution_count": 16,
   "metadata": {},
   "outputs": [],
   "source": [
    "df['preprocessed_text'] = df['cleaned_text'].apply(stemming)"
   ]
  },
  {
   "cell_type": "code",
   "execution_count": 17,
   "metadata": {},
   "outputs": [],
   "source": [
    "df['preprocessed_text'] = df['cleaned_text'].apply(lemmitization)"
   ]
  },
  {
   "cell_type": "code",
   "execution_count": 18,
   "metadata": {},
   "outputs": [],
   "source": [
    "df.to_csv('../datasets/preprocessed/indonlu_smsa_preprocessed.csv', index=False)"
   ]
  },
  {
   "cell_type": "markdown",
   "metadata": {},
   "source": [
    "#### **Prepare Extraction Feature**"
   ]
  },
  {
   "cell_type": "code",
   "execution_count": 3,
   "metadata": {},
   "outputs": [],
   "source": [
    "df = pd.read_csv('../datasets/preprocessed/indonlu_smsa_preprocessed.csv')"
   ]
  },
  {
   "cell_type": "code",
   "execution_count": 4,
   "metadata": {},
   "outputs": [
    {
     "data": {
      "text/html": [
       "<div>\n",
       "<style scoped>\n",
       "    .dataframe tbody tr th:only-of-type {\n",
       "        vertical-align: middle;\n",
       "    }\n",
       "\n",
       "    .dataframe tbody tr th {\n",
       "        vertical-align: top;\n",
       "    }\n",
       "\n",
       "    .dataframe thead th {\n",
       "        text-align: right;\n",
       "    }\n",
       "</style>\n",
       "<table border=\"1\" class=\"dataframe\">\n",
       "  <thead>\n",
       "    <tr style=\"text-align: right;\">\n",
       "      <th></th>\n",
       "      <th>text</th>\n",
       "      <th>label</th>\n",
       "      <th>cleaned_text</th>\n",
       "      <th>preprocessed_text</th>\n",
       "    </tr>\n",
       "  </thead>\n",
       "  <tbody>\n",
       "    <tr>\n",
       "      <th>0</th>\n",
       "      <td>demi apa pun gua ingin marah indosat cacat ban...</td>\n",
       "      <td>negative</td>\n",
       "      <td>apa gua marah indosat cacat banget sih</td>\n",
       "      <td>apa gua marah indosat cacat banget sih</td>\n",
       "    </tr>\n",
       "    <tr>\n",
       "      <th>1</th>\n",
       "      <td>yang benar saja masa nomer whatsapp saya di bl...</td>\n",
       "      <td>negative</td>\n",
       "      <td>benar masa nomer whatsapp di blok mana penangg...</td>\n",
       "      <td>benar masa nomer whatsapp di blok mana penangg...</td>\n",
       "    </tr>\n",
       "    <tr>\n",
       "      <th>2</th>\n",
       "      <td>aduh toyota prado segala rusak</td>\n",
       "      <td>negative</td>\n",
       "      <td>aduh toyota prado segala rusak</td>\n",
       "      <td>aduh toyota prado segala rusak</td>\n",
       "    </tr>\n",
       "    <tr>\n",
       "      <th>3</th>\n",
       "      <td>demi yang hanya untuk pencitraan mencari simpa...</td>\n",
       "      <td>negative</td>\n",
       "      <td>yang untuk pencitraan mencari simpati rakyat t...</td>\n",
       "      <td>yang untuk pencitraan mencari simpati rakyat t...</td>\n",
       "    </tr>\n",
       "    <tr>\n",
       "      <th>4</th>\n",
       "      <td>yang tidak kereta mutiara timur malam sby bnyw...</td>\n",
       "      <td>negative</td>\n",
       "      <td>tidak kereta mutiara timur malam surabaya bnyw...</td>\n",
       "      <td>tidak kereta mutiara timur malam surabaya bnyw...</td>\n",
       "    </tr>\n",
       "  </tbody>\n",
       "</table>\n",
       "</div>"
      ],
      "text/plain": [
       "                                                text     label  \\\n",
       "0  demi apa pun gua ingin marah indosat cacat ban...  negative   \n",
       "1  yang benar saja masa nomer whatsapp saya di bl...  negative   \n",
       "2                     aduh toyota prado segala rusak  negative   \n",
       "3  demi yang hanya untuk pencitraan mencari simpa...  negative   \n",
       "4  yang tidak kereta mutiara timur malam sby bnyw...  negative   \n",
       "\n",
       "                                        cleaned_text  \\\n",
       "0             apa gua marah indosat cacat banget sih   \n",
       "1  benar masa nomer whatsapp di blok mana penangg...   \n",
       "2                     aduh toyota prado segala rusak   \n",
       "3  yang untuk pencitraan mencari simpati rakyat t...   \n",
       "4  tidak kereta mutiara timur malam surabaya bnyw...   \n",
       "\n",
       "                                   preprocessed_text  \n",
       "0             apa gua marah indosat cacat banget sih  \n",
       "1  benar masa nomer whatsapp di blok mana penangg...  \n",
       "2                     aduh toyota prado segala rusak  \n",
       "3  yang untuk pencitraan mencari simpati rakyat t...  \n",
       "4  tidak kereta mutiara timur malam surabaya bnyw...  "
      ]
     },
     "execution_count": 4,
     "metadata": {},
     "output_type": "execute_result"
    }
   ],
   "source": [
    "df.head()"
   ]
  },
  {
   "cell_type": "code",
   "execution_count": 5,
   "metadata": {},
   "outputs": [
    {
     "name": "stdout",
     "output_type": "stream",
     "text": [
      "[[1. 0. 0.]\n",
      " [1. 0. 0.]\n",
      " [1. 0. 0.]\n",
      " ...\n",
      " [0. 0. 1.]\n",
      " [0. 0. 1.]\n",
      " [0. 0. 1.]]\n"
     ]
    }
   ],
   "source": [
    "# Memastikan kolom 'label' berbentuk DataFrame 2-dimensi\n",
    "sentiments = df[['label']]\n",
    "\n",
    "# Menginisialisasi dan menerapkan OneHotEncoder\n",
    "encoder = OneHotEncoder(sparse_output=False)\n",
    "encoded_sentiments = encoder.fit_transform(sentiments)\n",
    "\n",
    "# Menampilkan hasil\n",
    "print(encoded_sentiments)"
   ]
  },
  {
   "cell_type": "code",
   "execution_count": 6,
   "metadata": {},
   "outputs": [
    {
     "name": "stdout",
     "output_type": "stream",
     "text": [
      "text                 yang benar saja masa nomer whatsapp saya di bl...\n",
      "label                                                         negative\n",
      "cleaned_text         benar masa nomer whatsapp di blok mana penangg...\n",
      "preprocessed_text    benar masa nomer whatsapp di blok mana penangg...\n",
      "negative                                                           1.0\n",
      "neutral                                                            0.0\n",
      "positive                                                           0.0\n",
      "Name: 1, dtype: object\n"
     ]
    }
   ],
   "source": [
    "# Create a DataFrame to display the results\n",
    "encoded_df = pd.DataFrame(encoded_sentiments, columns=encoder.categories_[0])\n",
    "\n",
    "# Concatenate the encoded DataFrame with the original DataFrame\n",
    "df_encoded = pd.concat([df, encoded_df], axis=1)\n",
    "\n",
    "# Display the DataFrame with encoded sentiments\n",
    "print(df_encoded.iloc[1])"
   ]
  },
  {
   "cell_type": "code",
   "execution_count": 5,
   "metadata": {},
   "outputs": [],
   "source": [
    "encoded_label = df['label'].map({'negative' : 0, 'neutral' : 1, 'positive' : 2}).values"
   ]
  },
  {
   "cell_type": "markdown",
   "metadata": {},
   "source": [
    "#### **Extraction Feature**"
   ]
  },
  {
   "cell_type": "code",
   "execution_count": 6,
   "metadata": {},
   "outputs": [
    {
     "name": "stdout",
     "output_type": "stream",
     "text": [
      "[[   0    0    0 ... 4970   31   76]\n",
      " [   0    0    0 ...  606 1486  250]\n",
      " [   0    0    0 ... 1374  747  924]\n",
      " ...\n",
      " [   0    0    0 ...  634  696 2505]\n",
      " [   0    0    0 ... 3786 1540 4217]\n",
      " [   0    0    0 ... 2458 2925 4199]]\n"
     ]
    }
   ],
   "source": [
    "# Tokenisasi teks\n",
    "tokenizer = Tokenizer(num_words=5000)\n",
    "tokenizer.fit_on_texts(df['text'])\n",
    "sequences = tokenizer.texts_to_sequences(df['preprocessed_text'])\n",
    "\n",
    "# Padding sequences agar memiliki panjang yang sama\n",
    "max_length = 100\n",
    "padded_sequences = pad_sequences(sequences, maxlen=max_length)\n",
    "\n",
    "# Menampilkan hasil\n",
    "print(padded_sequences)\n",
    "\n",
    "# padded_sequences => sebagai featurenya berbentuk vector"
   ]
  },
  {
   "cell_type": "markdown",
   "metadata": {},
   "source": [
    "#### **Modeling**"
   ]
  },
  {
   "cell_type": "code",
   "execution_count": 7,
   "metadata": {},
   "outputs": [],
   "source": [
    "# Membagi data menjadi set pelatihan dan pengujian\n",
    "X_train, X_test, y_train, y_test = train_test_split(padded_sequences, encoded_label, test_size=0.2, random_state=42)\n",
    "\n",
    "# output dari feature di masukkan ke set pelatihan dan pengujian, yang nantinya digunakan untuk mmebuat model"
   ]
  },
  {
   "cell_type": "code",
   "execution_count": 10,
   "metadata": {},
   "outputs": [],
   "source": [
    "# Define early stopping callback\n",
    "early_stop = EarlyStopping(monitor='val_accuracy', patience=3, min_delta=0.0001, restore_best_weights=True)"
   ]
  },
  {
   "cell_type": "code",
   "execution_count": 200,
   "metadata": {},
   "outputs": [
    {
     "data": {
      "text/html": [
       "<pre style=\"white-space:pre;overflow-x:auto;line-height:normal;font-family:Menlo,'DejaVu Sans Mono',consolas,'Courier New',monospace\"><span style=\"font-weight: bold\">Model: \"sequential_48\"</span>\n",
       "</pre>\n"
      ],
      "text/plain": [
       "\u001b[1mModel: \"sequential_48\"\u001b[0m\n"
      ]
     },
     "metadata": {},
     "output_type": "display_data"
    },
    {
     "data": {
      "text/html": [
       "<pre style=\"white-space:pre;overflow-x:auto;line-height:normal;font-family:Menlo,'DejaVu Sans Mono',consolas,'Courier New',monospace\">┏━━━━━━━━━━━━━━━━━━━━━━━━━━━━━━━━━┳━━━━━━━━━━━━━━━━━━━━━━━━┳━━━━━━━━━━━━━━━┓\n",
       "┃<span style=\"font-weight: bold\"> Layer (type)                    </span>┃<span style=\"font-weight: bold\"> Output Shape           </span>┃<span style=\"font-weight: bold\">       Param # </span>┃\n",
       "┡━━━━━━━━━━━━━━━━━━━━━━━━━━━━━━━━━╇━━━━━━━━━━━━━━━━━━━━━━━━╇━━━━━━━━━━━━━━━┩\n",
       "│ embedding_49 (<span style=\"color: #0087ff; text-decoration-color: #0087ff\">Embedding</span>)        │ (<span style=\"color: #00d7ff; text-decoration-color: #00d7ff\">None</span>, <span style=\"color: #00af00; text-decoration-color: #00af00\">100</span>, <span style=\"color: #00af00; text-decoration-color: #00af00\">100</span>)       │     <span style=\"color: #00af00; text-decoration-color: #00af00\">1,534,100</span> │\n",
       "├─────────────────────────────────┼────────────────────────┼───────────────┤\n",
       "│ bidirectional_55                │ (<span style=\"color: #00d7ff; text-decoration-color: #00d7ff\">None</span>, <span style=\"color: #00af00; text-decoration-color: #00af00\">128</span>)            │        <span style=\"color: #00af00; text-decoration-color: #00af00\">84,480</span> │\n",
       "│ (<span style=\"color: #0087ff; text-decoration-color: #0087ff\">Bidirectional</span>)                 │                        │               │\n",
       "├─────────────────────────────────┼────────────────────────┼───────────────┤\n",
       "│ dense_62 (<span style=\"color: #0087ff; text-decoration-color: #0087ff\">Dense</span>)                │ (<span style=\"color: #00d7ff; text-decoration-color: #00d7ff\">None</span>, <span style=\"color: #00af00; text-decoration-color: #00af00\">3</span>)              │           <span style=\"color: #00af00; text-decoration-color: #00af00\">387</span> │\n",
       "└─────────────────────────────────┴────────────────────────┴───────────────┘\n",
       "</pre>\n"
      ],
      "text/plain": [
       "┏━━━━━━━━━━━━━━━━━━━━━━━━━━━━━━━━━┳━━━━━━━━━━━━━━━━━━━━━━━━┳━━━━━━━━━━━━━━━┓\n",
       "┃\u001b[1m \u001b[0m\u001b[1mLayer (type)                   \u001b[0m\u001b[1m \u001b[0m┃\u001b[1m \u001b[0m\u001b[1mOutput Shape          \u001b[0m\u001b[1m \u001b[0m┃\u001b[1m \u001b[0m\u001b[1m      Param #\u001b[0m\u001b[1m \u001b[0m┃\n",
       "┡━━━━━━━━━━━━━━━━━━━━━━━━━━━━━━━━━╇━━━━━━━━━━━━━━━━━━━━━━━━╇━━━━━━━━━━━━━━━┩\n",
       "│ embedding_49 (\u001b[38;5;33mEmbedding\u001b[0m)        │ (\u001b[38;5;45mNone\u001b[0m, \u001b[38;5;34m100\u001b[0m, \u001b[38;5;34m100\u001b[0m)       │     \u001b[38;5;34m1,534,100\u001b[0m │\n",
       "├─────────────────────────────────┼────────────────────────┼───────────────┤\n",
       "│ bidirectional_55                │ (\u001b[38;5;45mNone\u001b[0m, \u001b[38;5;34m128\u001b[0m)            │        \u001b[38;5;34m84,480\u001b[0m │\n",
       "│ (\u001b[38;5;33mBidirectional\u001b[0m)                 │                        │               │\n",
       "├─────────────────────────────────┼────────────────────────┼───────────────┤\n",
       "│ dense_62 (\u001b[38;5;33mDense\u001b[0m)                │ (\u001b[38;5;45mNone\u001b[0m, \u001b[38;5;34m3\u001b[0m)              │           \u001b[38;5;34m387\u001b[0m │\n",
       "└─────────────────────────────────┴────────────────────────┴───────────────┘\n"
      ]
     },
     "metadata": {},
     "output_type": "display_data"
    },
    {
     "data": {
      "text/html": [
       "<pre style=\"white-space:pre;overflow-x:auto;line-height:normal;font-family:Menlo,'DejaVu Sans Mono',consolas,'Courier New',monospace\"><span style=\"font-weight: bold\"> Total params: </span><span style=\"color: #00af00; text-decoration-color: #00af00\">1,618,967</span> (6.18 MB)\n",
       "</pre>\n"
      ],
      "text/plain": [
       "\u001b[1m Total params: \u001b[0m\u001b[38;5;34m1,618,967\u001b[0m (6.18 MB)\n"
      ]
     },
     "metadata": {},
     "output_type": "display_data"
    },
    {
     "data": {
      "text/html": [
       "<pre style=\"white-space:pre;overflow-x:auto;line-height:normal;font-family:Menlo,'DejaVu Sans Mono',consolas,'Courier New',monospace\"><span style=\"font-weight: bold\"> Trainable params: </span><span style=\"color: #00af00; text-decoration-color: #00af00\">1,618,967</span> (6.18 MB)\n",
       "</pre>\n"
      ],
      "text/plain": [
       "\u001b[1m Trainable params: \u001b[0m\u001b[38;5;34m1,618,967\u001b[0m (6.18 MB)\n"
      ]
     },
     "metadata": {},
     "output_type": "display_data"
    },
    {
     "data": {
      "text/html": [
       "<pre style=\"white-space:pre;overflow-x:auto;line-height:normal;font-family:Menlo,'DejaVu Sans Mono',consolas,'Courier New',monospace\"><span style=\"font-weight: bold\"> Non-trainable params: </span><span style=\"color: #00af00; text-decoration-color: #00af00\">0</span> (0.00 B)\n",
       "</pre>\n"
      ],
      "text/plain": [
       "\u001b[1m Non-trainable params: \u001b[0m\u001b[38;5;34m0\u001b[0m (0.00 B)\n"
      ]
     },
     "metadata": {},
     "output_type": "display_data"
    }
   ],
   "source": [
    "# Parameter model\n",
    "vocab_size = len(tokenizer.word_index) + 1  # Ditambah 1 untuk padding token\n",
    "embedding_dim = 100\n",
    "max_length = 100  # Menetapkan max_length sesuai dengan padding sequence\n",
    "\n",
    "def create_model():\n",
    "    model = Sequential([\n",
    "        Embedding(input_dim=vocab_size, output_dim=embedding_dim),\n",
    "        Bidirectional(LSTM(units=64, dropout=0.2)),\n",
    "        Dense(units=3, activation='softmax')\n",
    "    ])\n",
    "\n",
    "    # Kompilasi model\n",
    "    model.compile(\n",
    "        loss='sparse_categorical_crossentropy', # ketika menggunakan ordinal encoder, kalau menggunakan one-hot encoder maka menggunakan _categorical_crossentropy\n",
    "        optimizer=Adam(learning_rate=0.001),\n",
    "        metrics=['accuracy']\n",
    "    )\n",
    "\n",
    "    # Membangun model\n",
    "    model.build(input_shape=(None, max_length)) # untuk menggunakan embedding\n",
    "\n",
    "    # Menampilkan ringkasan model setelah memberikan contoh data untuk menentukan bentuk layer\n",
    "    model.summary()\n",
    "\n",
    "    return model\n",
    "\n",
    "# Create the model\n",
    "model = create_model()"
   ]
  },
  {
   "cell_type": "code",
   "execution_count": 201,
   "metadata": {},
   "outputs": [
    {
     "name": "stdout",
     "output_type": "stream",
     "text": [
      "Epoch 1/100\n",
      "\u001b[1m112/112\u001b[0m \u001b[32m━━━━━━━━━━━━━━━━━━━━\u001b[0m\u001b[37m\u001b[0m \u001b[1m14s\u001b[0m 104ms/step - accuracy: 0.5641 - loss: 0.9188 - val_accuracy: 0.8510 - val_loss: 0.4328\n",
      "Epoch 2/100\n",
      "\u001b[1m112/112\u001b[0m \u001b[32m━━━━━━━━━━━━━━━━━━━━\u001b[0m\u001b[37m\u001b[0m \u001b[1m13s\u001b[0m 115ms/step - accuracy: 0.8791 - loss: 0.3301 - val_accuracy: 0.8864 - val_loss: 0.3055\n",
      "Epoch 3/100\n",
      "\u001b[1m112/112\u001b[0m \u001b[32m━━━━━━━━━━━━━━━━━━━━\u001b[0m\u001b[37m\u001b[0m \u001b[1m13s\u001b[0m 113ms/step - accuracy: 0.9407 - loss: 0.1688 - val_accuracy: 0.8927 - val_loss: 0.3107\n",
      "Epoch 4/100\n",
      "\u001b[1m112/112\u001b[0m \u001b[32m━━━━━━━━━━━━━━━━━━━━\u001b[0m\u001b[37m\u001b[0m \u001b[1m23s\u001b[0m 131ms/step - accuracy: 0.9687 - loss: 0.0982 - val_accuracy: 0.8902 - val_loss: 0.3443\n",
      "Epoch 5/100\n",
      "\u001b[1m112/112\u001b[0m \u001b[32m━━━━━━━━━━━━━━━━━━━━\u001b[0m\u001b[37m\u001b[0m \u001b[1m23s\u001b[0m 152ms/step - accuracy: 0.9786 - loss: 0.0692 - val_accuracy: 0.8889 - val_loss: 0.3897\n",
      "Epoch 6/100\n",
      "\u001b[1m112/112\u001b[0m \u001b[32m━━━━━━━━━━━━━━━━━━━━\u001b[0m\u001b[37m\u001b[0m \u001b[1m22s\u001b[0m 162ms/step - accuracy: 0.9853 - loss: 0.0475 - val_accuracy: 0.8851 - val_loss: 0.4227\n"
     ]
    }
   ],
   "source": [
    "# Train and evaluate the model\n",
    "history = model.fit(X_train, y_train, epochs=100, batch_size=64, validation_split=0.1, callbacks=[early_stop])"
   ]
  },
  {
   "cell_type": "code",
   "execution_count": 202,
   "metadata": {},
   "outputs": [
    {
     "name": "stdout",
     "output_type": "stream",
     "text": [
      "\u001b[1m62/62\u001b[0m \u001b[32m━━━━━━━━━━━━━━━━━━━━\u001b[0m\u001b[37m\u001b[0m \u001b[1m2s\u001b[0m 33ms/step - accuracy: 0.8886 - loss: 0.3181\n",
      "Validation Loss: 0.33053743839263916\n",
      "Test Accuracy: 0.8853535056114197\n"
     ]
    }
   ],
   "source": [
    "# Mengevaluasi performa model\n",
    "loss, accuracy = model.evaluate(X_test, y_test)\n",
    "print(f\"Validation Loss: {loss}\")\n",
    "print(f\"Test Accuracy: {accuracy}\")"
   ]
  },
  {
   "cell_type": "markdown",
   "metadata": {},
   "source": [
    "#### **Evaluasi Model**"
   ]
  },
  {
   "cell_type": "code",
   "execution_count": 22,
   "metadata": {},
   "outputs": [
    {
     "name": "stdout",
     "output_type": "stream",
     "text": [
      "\u001b[1m248/248\u001b[0m \u001b[32m━━━━━━━━━━━━━━━━━━━━\u001b[0m\u001b[37m\u001b[0m \u001b[1m4s\u001b[0m 14ms/step - accuracy: 0.9737 - loss: 0.0944\n",
      "Training Accuracy: 96.52%\n",
      "\u001b[1m248/248\u001b[0m \u001b[32m━━━━━━━━━━━━━━━━━━━━\u001b[0m\u001b[37m\u001b[0m \u001b[1m3s\u001b[0m 13ms/step\n",
      "Training Classification Report:\n",
      "               precision    recall  f1-score   support\n",
      "\n",
      "    negative       0.94      0.97      0.95      2629\n",
      "     neutral       0.99      0.98      0.99      2625\n",
      "    positive       0.97      0.95      0.96      2666\n",
      "\n",
      "    accuracy                           0.97      7920\n",
      "   macro avg       0.97      0.97      0.97      7920\n",
      "weighted avg       0.97      0.97      0.97      7920\n",
      "\n"
     ]
    }
   ],
   "source": [
    "# Evaluasi model pada set pelatihan\n",
    "train_loss, train_accuracy = model.evaluate(X_train, y_train)\n",
    "print(f'Training Accuracy: {train_accuracy * 100:.2f}%')\n",
    "\n",
    "# Prediksi label untuk set pelatihan\n",
    "y_train_pred = model.predict(X_train)\n",
    "y_train_pred_classes = np.argmax(y_train_pred, axis=1)\n",
    "\n",
    "# Menghasilkan laporan klasifikasi untuk set pelatihan\n",
    "train_report = classification_report(y_train, y_train_pred_classes, target_names=['negative', 'neutral', 'positive'])\n",
    "print(\"Training Classification Report:\\n\", train_report)"
   ]
  },
  {
   "cell_type": "code",
   "execution_count": 21,
   "metadata": {},
   "outputs": [
    {
     "name": "stdout",
     "output_type": "stream",
     "text": [
      "\u001b[1m62/62\u001b[0m \u001b[32m━━━━━━━━━━━━━━━━━━━━\u001b[0m\u001b[37m\u001b[0m \u001b[1m1s\u001b[0m 16ms/step - accuracy: 0.8886 - loss: 0.3181\n",
      "Test Accuracy: 88.54%\n",
      "\u001b[1m62/62\u001b[0m \u001b[32m━━━━━━━━━━━━━━━━━━━━\u001b[0m\u001b[37m\u001b[0m \u001b[1m1s\u001b[0m 21ms/step\n",
      "              precision    recall  f1-score   support\n",
      "\n",
      "    negative       0.84      0.86      0.85       671\n",
      "     neutral       0.95      0.92      0.94       675\n",
      "    positive       0.87      0.87      0.87       634\n",
      "\n",
      "    accuracy                           0.89      1980\n",
      "   macro avg       0.89      0.89      0.89      1980\n",
      "weighted avg       0.89      0.89      0.89      1980\n",
      "\n"
     ]
    }
   ],
   "source": [
    "# Evaluasi model\n",
    "loss, accuracy = model.evaluate(X_test, y_test)\n",
    "print(f'Test Accuracy: {accuracy * 100:.2f}%')\n",
    "\n",
    "# Prediksi label untuk set pengujian\n",
    "y_pred = model.predict(X_test)\n",
    "y_pred_classes = np.argmax(y_pred, axis=1)\n",
    "\n",
    "# Menghasilkan laporan klasifikasi\n",
    "report = classification_report(y_test, y_pred_classes, target_names=['negative', 'neutral', 'positive'])\n",
    "print(report)\n"
   ]
  },
  {
   "cell_type": "code",
   "execution_count": null,
   "metadata": {},
   "outputs": [],
   "source": [
    "# # Train and evaluate the model\n",
    "# Bidirectional(LSTM(units=64, dropout=0.2)),, sparse_categorical_crossentropy\n",
    "# history = model.fit(X_train, y_train, epochs=100, batch_size=64, validation_split=0.1, callbacks=[early_stop])\n",
    "\n",
    "# 62/62 ━━━━━━━━━━━━━━━━━━━━ 2s 33ms/step - accuracy: 0.8886 - loss: 0.3181\n",
    "# Validation Loss: 0.33053743839263916\n",
    "# Test Accuracy: 0.8853535056114197"
   ]
  },
  {
   "cell_type": "markdown",
   "metadata": {},
   "source": [
    "#### **Save Model**"
   ]
  },
  {
   "cell_type": "code",
   "execution_count": 203,
   "metadata": {},
   "outputs": [],
   "source": [
    "# Save the model as an keras file\n",
    "model.save('../model/bilstm/model_bilstm.keras')"
   ]
  },
  {
   "cell_type": "code",
   "execution_count": 204,
   "metadata": {},
   "outputs": [],
   "source": [
    "# Simpan history ke file pickle\n",
    "with open('../model/bilstm/history_bilstm.pkl', 'wb') as file:\n",
    "    pickle.dump(history.history, file)"
   ]
  },
  {
   "cell_type": "code",
   "execution_count": 205,
   "metadata": {},
   "outputs": [],
   "source": [
    "# Save the model weights\n",
    "model.save_weights('../model/bilstm/model_weights_bilstm.weights.h5')"
   ]
  },
  {
   "cell_type": "code",
   "execution_count": 206,
   "metadata": {},
   "outputs": [],
   "source": [
    "# Save the model as a PKL file\n",
    "# Save the model architecture as a JSON string\n",
    "model_json = model.to_json()\n",
    "with open('../model/bilstm/model_architecture_bilstm.json', 'w') as json_file:\n",
    "    json_file.write(model_json)"
   ]
  },
  {
   "cell_type": "code",
   "execution_count": 207,
   "metadata": {},
   "outputs": [],
   "source": [
    "# Save the model as a pickle file\n",
    "with open('../model/bilstm/model_bilstm.pkl', 'wb') as pkl_file:\n",
    "    pickle.dump({'../model/bilstm/model_architecture_bilstm': model_json, '../model/bilstm/model_weights_bilstm': model.get_weights()}, pkl_file)"
   ]
  },
  {
   "cell_type": "code",
   "execution_count": 209,
   "metadata": {},
   "outputs": [],
   "source": [
    "# Save tokenizer's word index\n",
    "with open('../model/bilstm/tokenizer_word_index_bilstm.pkl', 'wb') as f:\n",
    "    pickle.dump(tokenizer.word_index, f)\n",
    "\n",
    "# Save tokenizer's configuration\n",
    "tokenizer_config = {\n",
    "    'num_words': tokenizer.num_words,\n",
    "    'filters': tokenizer.filters,\n",
    "    'lower': tokenizer.lower,\n",
    "    'split': tokenizer.split,\n",
    "    'char_level': tokenizer.char_level,\n",
    "    'oov_token': tokenizer.oov_token,\n",
    "    'document_count': tokenizer.document_count\n",
    "}\n",
    "\n",
    "with open('../model/bilstm/tokenizer_config_bilstm.pkl', 'wb') as f:\n",
    "    pickle.dump(tokenizer_config, f)"
   ]
  },
  {
   "cell_type": "code",
   "execution_count": 210,
   "metadata": {},
   "outputs": [
    {
     "data": {
      "image/png": "[encoded data removed]",
      "text/plain": [
       "<Figure size 640x480 with 1 Axes>"
      ]
     },
     "metadata": {},
     "output_type": "display_data"
    }
   ],
   "source": [
    "# Memuat history dari file pickle\n",
    "with open('../model/bilstm/history_bilstm.pkl', 'rb') as file:\n",
    "    history = pickle.load(file)\n",
    "\n",
    "# Membuat grafik loss\n",
    "import matplotlib.pyplot as plt\n",
    "\n",
    "# Plot loss\n",
    "plt.plot(history['loss'], label='Training Loss')\n",
    "plt.plot(history['val_loss'], label='Validation Loss')\n",
    "plt.title('Training and Validation Loss')\n",
    "plt.xlabel('Epoch')\n",
    "plt.ylabel('Loss')\n",
    "plt.legend()\n",
    "plt.grid(True)\n",
    "plt.show()"
   ]
  },
  {
   "cell_type": "code",
   "execution_count": 230,
   "metadata": {},
   "outputs": [
    {
     "data": {
      "image/png": "[encoded data removed]",
      "text/plain": [
       "<Figure size 640x480 with 1 Axes>"
      ]
     },
     "metadata": {},
     "output_type": "display_data"
    }
   ],
   "source": [
    "# Memuat history dari file pickle\n",
    "with open('../model/bilstm/history_bilstm.pkl', 'rb') as file:\n",
    "    history = pickle.load(file)\n",
    "\n",
    "# Membuat grafik loss\n",
    "import matplotlib.pyplot as plt\n",
    "\n",
    "# Plot loss\n",
    "plt.plot(history['accuracy'], label='Training Accuracy')\n",
    "plt.plot(history['val_accuracy'], label='Validation Accuracy')\n",
    "plt.title('Training and Validation Accuracy')\n",
    "plt.xlabel('Epoch')\n",
    "plt.ylabel('Accuracy')\n",
    "plt.legend()\n",
    "plt.grid(True)\n",
    "plt.show()"
   ]
  },
  {
   "cell_type": "markdown",
   "metadata": {},
   "source": [
    "#### **Load Model**"
   ]
  },
  {
   "cell_type": "code",
   "execution_count": 212,
   "metadata": {},
   "outputs": [],
   "source": [
    "from tensorflow.keras.models import Sequential, load_model"
   ]
  },
  {
   "cell_type": "code",
   "execution_count": 12,
   "metadata": {},
   "outputs": [],
   "source": [
    "from tensorflow.keras.models import Sequential, load_model"
   ]
  },
  {
   "cell_type": "code",
   "execution_count": 13,
   "metadata": {},
   "outputs": [],
   "source": [
    "model = load_model('../model/bilstm/model_bilstm.keras')"
   ]
  },
  {
   "cell_type": "code",
   "execution_count": 14,
   "metadata": {},
   "outputs": [
    {
     "name": "stdout",
     "output_type": "stream",
     "text": [
      "\u001b[1m62/62\u001b[0m \u001b[32m━━━━━━━━━━━━━━━━━━━━\u001b[0m\u001b[37m\u001b[0m \u001b[1m2s\u001b[0m 16ms/step - accuracy: 0.8886 - loss: 0.3181\n"
     ]
    }
   ],
   "source": [
    "loss, accuracy = model.evaluate(X_test, y_test)"
   ]
  },
  {
   "cell_type": "code",
   "execution_count": 229,
   "metadata": {},
   "outputs": [
    {
     "name": "stdout",
     "output_type": "stream",
     "text": [
      "\u001b[1m1/1\u001b[0m \u001b[32m━━━━━━━━━━━━━━━━━━━━\u001b[0m\u001b[37m\u001b[0m \u001b[1m0s\u001b[0m 315ms/step\n",
      "Text: tempat sampah bocor dan tak layak pakai\n",
      "Prediction: [0.6010638  0.04275477 0.35618147]\n",
      "Sentiment: negative\n",
      "Highest Score: 0.6010637879371643\n",
      "Score Negative: 0.6010637879371643\n",
      "Score Neutral: 0.042754773050546646\n",
      "Score Positive: 0.35618147253990173\n",
      "\n"
     ]
    }
   ],
   "source": [
    "import re\n",
    "\n",
    "def preprocess_text(text):\n",
    "    # Replace 'sampah' with 'sampah-nya'\n",
    "    text = re.sub(r'\\bsampah\\b', 'sampahnya', text)\n",
    "    return text\n",
    "\n",
    "# Example usage\n",
    "feedback = input(\"Your Feedback:\")\n",
    "feedback_processed = preprocess_text(feedback)\n",
    "\n",
    "# Example new data to predict\n",
    "new_texts = [feedback_processed]\n",
    "\n",
    "# Tokenize new data\n",
    "sequences = tokenizer.texts_to_sequences(new_texts)\n",
    "\n",
    "# Padding sequences\n",
    "max_length = 100  # Adjust according to your model's max_length\n",
    "padded_sequences = pad_sequences(sequences, maxlen=max_length)\n",
    "\n",
    "# Load the saved model\n",
    "model = load_model('../model/bilstm/model_bilstm.keras')\n",
    "\n",
    "# Perform prediction\n",
    "predictions = model.predict(padded_sequences)\n",
    "\n",
    "# Example of printing predictions\n",
    "for text, prediction in zip(new_texts, predictions):\n",
    "    print(f'Text: {feedback}')\n",
    "    print(f'Prediction: {prediction}')\n",
    "\n",
    "    # Find the index of the maximum value\n",
    "    if np.argmax(prediction) == 0:\n",
    "        print(\"Sentiment: negative\")\n",
    "    elif np.argmax(prediction) == 1:\n",
    "        print(\"Sentiment: neutral\")\n",
    "    elif np.argmax(prediction) == 2:\n",
    "        print(\"Sentiment: positive\")\n",
    "\n",
    "    # Find the maximum value in the prediction array\n",
    "    max_value = max(prediction)\n",
    "    print(f'Highest Score: {max_value}')\n",
    "\n",
    "    print(f'Score Negative: {prediction[0]}')\n",
    "    print(f'Score Neutral: {prediction[1]}')\n",
    "    print(f'Score Positive: {prediction[2]}')\n",
    "    print()  # For spacing between outputs\n"
   ]
  }
 ],
 "metadata": {
  "kernelspec": {
   "display_name": "nlp",
   "language": "python",
   "name": "python3"
  },
  "language_info": {
   "codemirror_mode": {
    "name": "ipython",
    "version": 3
   },
   "file_extension": ".py",
   "mimetype": "text/x-python",
   "name": "python",
   "nbconvert_exporter": "python",
   "pygments_lexer": "ipython3",
   "version": "3.10.14"
  }
 },
 "nbformat": 4,
 "nbformat_minor": 2
}
